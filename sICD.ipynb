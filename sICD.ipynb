{
 "cells": [
  {
   "cell_type": "code",
   "execution_count": 1,
   "metadata": {
    "collapsed": true
   },
   "outputs": [],
   "source": [
    "import time\n",
    "\n",
    "%matplotlib inline\n",
    "import matplotlib as mpl\n",
    "import matplotlib.cm as cm\n",
    "import matplotlib.pyplot as plt\n",
    "import numpy as np\n",
    "import pandas as pd\n",
    "import scipy as sp\n",
    "\n",
    "from collections import Counter\n",
    "from itertools import groupby\n",
    "from scipy import stats\n",
    "from scipy.special import gammaln, xlogy"
   ]
  },
  {
   "cell_type": "code",
   "execution_count": 2,
   "metadata": {
    "collapsed": true
   },
   "outputs": [],
   "source": [
    "def IBP_stick_breaking(alpha, N, K):\n",
    "    mu = np.random.beta(alpha,1,size=K)\n",
    "    pi = np.cumprod(mu)\n",
    "    return pi\n",
    "\n",
    "def FTM_synthetic_data(M, K, Nvocab, gamma, alpha, eta, supervised=False, mu_a=0, sigma_a=1, sigma_y=1):\n",
    "\n",
    "    phi = np.random.gamma(gamma,1, size=K)\n",
    "    beta = np.random.dirichlet(eta, size=K)  # topic distribution over words\n",
    "\n",
    "    pi = IBP_stick_breaking(alpha,M,K)\n",
    "    b = np.random.binomial(n=1, p=pi, size=(M,K))\n",
    "    # error for small m (since small m -> some obs have no active features)\n",
    "    n = np.random.negative_binomial(b.dot(phi),0.5)\n",
    "    theta = np.apply_along_axis(np.random.dirichlet, arr=b*phi, axis=1)\n",
    "\n",
    "    zs,ws = [],[]\n",
    "    for m in range(M):\n",
    "        # draw topic for each word slot\n",
    "        z = np.random.choice(range(K), p=theta[m,:], size=n[m])\n",
    "        zs.append(z)\n",
    "        # draw word for each word slot\n",
    "        w = [np.random.choice(range(Nvocabulary), p=beta[z_word,:]) for z_word in z]\n",
    "        ws.append(w)\n",
    "    \n",
    "    if supervised:\n",
    "        n_per_mk = get_n_per_mk(zs,K)\n",
    "        a = np.random.normal(mu_a, sigma_a, size=K)\n",
    "        n_per_mk_norm = n_per_mk / n_per_mk.sum(axis=1)[:,np.newaxis]\n",
    "        y = np.random.normal(n_per_mk_norm.dot(a), sigma_y)\n",
    "        return phi, beta, pi, b, n, theta, zs, ws, y, a\n",
    "    \n",
    "    return phi, beta, pi, b, n, theta, zs, ws, None, None\n",
    "\n",
    "\n",
    "def get_n_per_mk(z, K):\n",
    "    # Nwords_per_doc_and_topic\n",
    "    topic_counts_per_doc = [Counter(z_m) for z_m in z]\n",
    "    n_per_mk = pd.DataFrame(topic_counts_per_doc, columns=range(K))\n",
    "    n_per_mk = np.nan_to_num(n_per_mk)\n",
    "    return n_per_mk\n",
    "\n",
    "\n",
    "def get_n_per_ik(z, w, K, Nvocab):\n",
    "    # Nvocabulary x K matrix to look up how often particular word associated with particular topic\n",
    "    topic_word_pair_counts_per_doc = [Counter(zip(z_m,w_m)) for z_m,w_m in zip(z,w)]\n",
    "    topic_word_pair_counts_per_doc = pd.DataFrame(topic_word_pair_counts_per_doc)\n",
    "    topic_word_pair_counts_series = topic_word_pair_counts_per_doc.sum(axis=0)\n",
    "    k,i = zip(*topic_word_pair_counts_series.index)\n",
    "    # topic_word_pair_counts\n",
    "    n_per_ik = np.zeros((Nvocab,K))\n",
    "    n_per_ik[i,k] = topic_word_pair_counts_series.values\n",
    "    return n_per_ik"
   ]
  },
  {
   "cell_type": "code",
   "execution_count": 16,
   "metadata": {},
   "outputs": [
    {
     "data": {
      "text/plain": [
       "array([17, 10, 21, 14, 12, 16,  6,  7,  8, 27, 15,  9,  9, 15,  6,  6,  1,\n",
       "       18, 14,  5, 15, 12, 11, 24, 19, 10,  7, 21,  8,  9,  8, 21, 16,  5,\n",
       "       10,  8, 22, 11,  2, 20, 21,  7,  8, 10,  3, 14, 13,  2,  8, 11, 10,\n",
       "       10,  1,  5, 11, 13,  2, 16, 17, 13, 14,  9, 11,  5, 12,  6, 27, 13,\n",
       "       12,  8, 13, 20, 15,  9, 15, 11,  9,  2, 13, 12,  6,  7,  6,  6, 16,\n",
       "        5,  8, 12,  3, 20,  7,  8, 12, 16,  8, 20, 16,  6, 20,  7])"
      ]
     },
     "execution_count": 16,
     "metadata": {},
     "output_type": "execute_result"
    }
   ],
   "source": [
    "M_dgp = 100  # number of documents\n",
    "K_trunc = 100 # truncation level for number of topics \n",
    "gamma = 3  # some approximations used in the inference below rely on gamma not being large (cf ICD appendix)\n",
    "alpha = 3\n",
    "Nvocabulary = 50\n",
    "eta = np.ones(Nvocabulary)/Nvocabulary\n",
    "supervised = True\n",
    "mu_a = 0\n",
    "sigma_a = 1\n",
    "sigma_y = 1\n",
    "\n",
    "phi_dgp, beta, pi_dgp, b_dgp, n_dgp, theta, z_dgp, w_dgp, y_dgp, a_dgp = FTM_synthetic_data(M_dgp, K_trunc, Nvocabulary, gamma, alpha, eta, supervised, mu_a, sigma_a, sigma_y)\n",
    "n_dgp"
   ]
  },
  {
   "cell_type": "code",
   "execution_count": 17,
   "metadata": {},
   "outputs": [
    {
     "name": "stdout",
     "output_type": "stream",
     "text": [
      "-0.161327251062\n"
     ]
    },
    {
     "data": {
      "image/png": "[encoded data removed]",
      "text/plain": [
       "<matplotlib.figure.Figure at 0xc8b0f60>"
      ]
     },
     "metadata": {},
     "output_type": "display_data"
    }
   ],
   "source": [
    "print y_dgp.mean()\n",
    "plt.hist(y_dgp, edgecolor='k', color='white');"
   ]
  },
  {
   "cell_type": "code",
   "execution_count": 18,
   "metadata": {},
   "outputs": [
    {
     "name": "stdout",
     "output_type": "stream",
     "text": [
      "(100L, 100L)\n"
     ]
    },
    {
     "data": {
      "text/plain": [
       "0.0"
      ]
     },
     "execution_count": 18,
     "metadata": {},
     "output_type": "execute_result"
    }
   ],
   "source": [
    "n_per_mk_dgp = get_n_per_mk(z_dgp,K_trunc)\n",
    "print n_per_mk_dgp.shape\n",
    "# check correctness by summing counts over all topics\n",
    "(n_per_mk_dgp.sum(axis=1)-n_dgp).sum()"
   ]
  },
  {
   "cell_type": "code",
   "execution_count": 19,
   "metadata": {},
   "outputs": [
    {
     "name": "stdout",
     "output_type": "stream",
     "text": [
      "(50L, 100L)\n"
     ]
    },
    {
     "data": {
      "text/plain": [
       "0.0"
      ]
     },
     "execution_count": 19,
     "metadata": {},
     "output_type": "execute_result"
    }
   ],
   "source": [
    "n_per_ik_dgp = get_n_per_ik(z_dgp, w_dgp, K_trunc, Nvocabulary)\n",
    "print n_per_ik_dgp.shape\n",
    "n_per_ik_dgp.sum() - n_dgp.sum() # should be 0"
   ]
  },
  {
   "cell_type": "code",
   "execution_count": 20,
   "metadata": {},
   "outputs": [
    {
     "data": {
      "text/plain": [
       "(38, 12)"
      ]
     },
     "execution_count": 20,
     "metadata": {},
     "output_type": "execute_result"
    }
   ],
   "source": [
    "# not all words in vocabulary will have been used\n",
    "words_used = [w for w_m in w_dgp for w in w_m]\n",
    "len(set(words_used)), (n_per_ik_dgp.sum(axis=1)==0).sum()"
   ]
  },
  {
   "cell_type": "code",
   "execution_count": 21,
   "metadata": {},
   "outputs": [
    {
     "data": {
      "text/plain": [
       "(0, 24L)"
      ]
     },
     "execution_count": 21,
     "metadata": {},
     "output_type": "execute_result"
    },
    {
     "data": {
      "image/png": "[encoded data removed]",
      "text/plain": [
       "<matplotlib.figure.Figure at 0xccc17f0>"
      ]
     },
     "metadata": {},
     "output_type": "display_data"
    }
   ],
   "source": [
    "Kmax = n_per_mk_dgp[:,~np.all(n_per_mk_dgp==0, axis=0)].shape[1]\n",
    "\n",
    "plt.imshow(b_dgp, cmap='Greys', aspect='auto');\n",
    "plt.xlim(0,Kmax)"
   ]
  },
  {
   "cell_type": "code",
   "execution_count": 22,
   "metadata": {
    "collapsed": true
   },
   "outputs": [],
   "source": [
    "def f_case1(U, nm_excl_i):\n",
    "    return ((2.**U)*(nm_excl_i+U))**-1\n",
    "\n",
    "\n",
    "def d2f_case1(U, nm_excl_i):\n",
    "    return 2.**(1-U)/(nm_excl_i+U)**3 + (2**-U)*np.log(2)**2/(nm_excl_i+U) + 2**(1-U)*np.log(2)/(nm_excl_i+U)**2\n",
    "\n",
    "\n",
    "def f_case3(X, Ystar, Ydagger, nm_excl_i):\n",
    "    return Ydagger / ( 2.**(X+Ystar+Ydagger) * (nm_excl_i+X+Ystar+Ydagger) )\n",
    "\n",
    "\n",
    "def d2f_dYstar2_case3(X, Ystar, Ydagger, nm_excl_i):\n",
    "    U = X+Ystar+Ydagger\n",
    "    return Ydagger*d2f_case1(U, nm_excl_i)\n",
    "\n",
    "\n",
    "def d2f_dYdagger2_case3(X, Ystar, Ydagger, nm_excl_i):\n",
    "    U = X+Ystar+Ydagger\n",
    "    return ( Ydagger*2.**(1-U) / (nm_excl_i+U)**3\n",
    "            + (Ydagger*(2**-U)*np.log(2)**2 - np.log(2)*2**(1-U)) / (nm_excl_i+U) \n",
    "            - 2*(2**-U - Ydagger*np.log(2)*2**-U) / (nm_excl_i+U)**2 )\n",
    "\n",
    "\n",
    "# vectorized over k, returns vector with p_zmi for k=0,...,K-1\n",
    "def logp_zmi_us(eta_wmi, nwmi_kexcli, n_per_mk_excli, m, i, z, phi, pi, alpha, gamma):\n",
    "    return np.log(nwmi_kexcli+eta_wmi) + np.log(E_g_X_Y(n_per_mk_excli, m, i, z, phi, pi, alpha, gamma))\n",
    "\n",
    "\n",
    "def logp_zmi_s(eta_wmi, nwmi_kexcli, n_per_mk_excli, m, i, z, phi, pi, alpha, gamma, y_m, a, sigma_y):\n",
    "    K = len(phi)\n",
    "    X_m = n_per_mk_excli[m,:] + np.eye(K)  # vectorizes over k (1st row ^= zij=0 -> add 1 to count for 1st topic, 2nd row: add 1 to count for 2nd topic)\n",
    "    return np.log(nwmi_kexcli+eta_wmi) + np.log(E_g_X_Y(n_per_mk_excli, m, i, z, phi, pi, alpha, gamma)) + logp_y_m(y_m, X_m, a, sigma_y)\n",
    "\n",
    "\n",
    "def logp_y_m(y_m, X_m, a, sigma_y):\n",
    "    return -1./(2*sigma_y**2)*(y_m-X_m.dot(a))**2\n",
    "\n",
    "\n",
    "# vectorized over k, returns vector with p_zmi for k=0,...,K-1 (only case 1,2 depend on k)\n",
    "def E_g_X_Y(n_per_mk_excl_i, m, i, z, phi, pi, alpha, gamma):\n",
    "          \n",
    "    X = phi[n_per_mk_excl_i[m,:]>0].sum()\n",
    "    Jstar_m = (n_per_mk_excl_i[m,:]==0) & (n_per_mk_excl_i.sum(axis=0)>0)\n",
    "    EYstar = np.sum(pi[Jstar_m]*phi[Jstar_m])\n",
    "    VYstar = np.sum(pi[Jstar_m]*(1-pi[Jstar_m])*phi[Jstar_m]**2)\n",
    "    EYdagger = alpha * gamma\n",
    "    VYdagger = alpha*gamma*(gamma+1) - (alpha*gamma)**2/(2*alpha+1.)\n",
    "    EY = EYstar + EYdagger\n",
    "    VY = VYstar + VYdagger\n",
    "    \n",
    "    mask1 = (n_per_mk_excl_i[m,:] > 0)\n",
    "    #case1 = (n_per_mk_excl_i[m,:]+phi) * (f_case1(X+EY,n_per_mk_excl_i[m,:].sum()) + 0.5*d2f_case1(X+EY,n_per_mk_excl_i[m,:].sum())*VY)  # vector\n",
    "    case1 = (f_case1(X+EY,n_per_mk_excl_i[m,:].sum()) + 0.5*d2f_case1(X+EY,n_per_mk_excl_i[m,:].sum())*VY)  # vector\n",
    "    mask2 = ~mask1 & (n_per_mk_excl_i.sum(axis=0) > 0)\n",
    "    EY_excl_k = EY - pi*phi  # vector\n",
    "    VY_excl_k = VY - pi*(1-pi)*phi**2  # vector\n",
    "    #case2 = phi*pi * (f_case1(X+EY_excl_k+phi,n_per_mk_excl_i[m,:]) + 0.5*d2f_case1(X+EY_excl_k+phi,n_per_mk_excl_i[m,:])*VY_excl_k)  # vector\n",
    "    case2 = (f_case1(X+EY_excl_k+phi,n_per_mk_excl_i[m,:]) + 0.5*d2f_case1(X+EY_excl_k+phi,n_per_mk_excl_i[m,:])*VY_excl_k)  # vector\n",
    "    mask3 = ~mask1 & ~mask2\n",
    "    case3 = (f_case3(X,EYstar,EYdagger,n_per_mk_excl_i[m,:].sum()) \n",
    "                + 0.5*d2f_dYstar2_case3(X,EYstar,EYdagger,n_per_mk_excl_i[m,:].sum())*VYstar \n",
    "                + 0.5*d2f_dYdagger2_case3(X,EYstar,EYdagger,n_per_mk_excl_i[m,:].sum())*VYdagger )\n",
    "    return mask1*case1 + mask2*case2 + mask3*case3\n",
    "\n",
    "\n",
    "def draw_via_PIT(logpdf,args,lb,ub,Npoints):\n",
    "    # calc pdf for region of interest & normalize -> distribution for region of interest\n",
    "    points = np.linspace(lb,ub,Npoints)\n",
    "    logpdf_approx = logpdf(points,*args)\n",
    "    logpdf_approx = logpdf_approx - logpdf_approx.max()\n",
    "    logc = sp.special.logsumexp(logpdf_approx)  # normalizing constant, sp.integrate.quad(p_new_pi,0,1,args=(alpha_sample,N))\n",
    "    logpdf_approx_norm = logpdf_approx - logc\n",
    "    cdf_approx = np.cumsum(np.exp(logpdf_approx_norm))\n",
    "    cdf_approx_unique, idx = np.unique(cdf_approx, return_index=True)\n",
    "    points_unique = points[idx]\n",
    "    \n",
    "    unif = np.random.uniform(0,1)\n",
    "    sample = np.interp(unif, cdf_approx_unique, points_unique) # PIT via inverse interpolation\n",
    "    \n",
    "    # uniform random jitter centered at 0 & width equal to stepsize (cf BDA p76)\n",
    "    stepsize = (ub-ub)/float(Npoints)\n",
    "    sample = sample + np.random.uniform(-stepsize/2.,stepsize/2.)\n",
    "    \n",
    "    return sample #,cdf_approx_unique, points_unique\n",
    "\n",
    "\n",
    "def logp_new_pi(pi, alpha, N):\n",
    "    Ns = np.array(range(1,N+1))\n",
    "    if isinstance(pi, np.ndarray):    \n",
    "        Ns = Ns[:,np.newaxis]\n",
    "    logp_pi = xlogy(alpha-1,pi) + xlogy(N,1-pi) + alpha*np.sum(1./Ns*(1-pi)**Ns,axis=0)\n",
    "    return logp_pi\n",
    "\n",
    "\n",
    "def logp_phi_n(n_per_mk, b, gamma, phi):\n",
    "    logp = ( xlogy(gamma-1,phi) - phi - gammaln(gamma) \n",
    "            + np.sum(b * (gammaln(phi+n_per_mk) - gammaln(phi) - gammaln(n_per_mk+1) - (phi+n_per_mk)*np.log(2)), axis=0) )\n",
    "    return np.log(phi>0) + logp\n",
    "\n",
    "\n",
    "def p_b(b, pi, phi, nm_k):\n",
    "    mask1 = nm_k>0\n",
    "    mask2 = (b==0) & (nm_k==0)\n",
    "    mask3 = (b==1) & (nm_k==0)\n",
    "    p0 = pi\n",
    "    p1 = 2**phi*(1-pi)\n",
    "    return mask1*b + mask2*p1/(p0+p1) + mask3*p0/(p0+p1)"
   ]
  },
  {
   "cell_type": "code",
   "execution_count": 23,
   "metadata": {
    "collapsed": true
   },
   "outputs": [],
   "source": [
    "def sICD_collapsed_gibbs(iters, w, Nvocab, alpha, gamma, z0, phi0, pi0, b0, supervised=False, y=None, a0=None, \n",
    "                         mu_a=0, sigma_a=1, sigma_y=1, iters_MH=100, sigma_proposal=1, Npoints=1000):\n",
    "    \n",
    "    z, phi, pi, b, a = z0, phi0, pi0, b0, a0\n",
    "    \n",
    "    M,K = b.shape\n",
    "    n_per_mk = get_n_per_mk(z, K)\n",
    "    n_per_ik  = get_n_per_ik(z, w, K, Nvocab)\n",
    "    n = np.array([len(w_m) for w_m in w])\n",
    "    \n",
    "    # only keep active features\n",
    "    activefeatures = (n_per_mk.sum(axis=0) != 0)\n",
    "    n_per_mk = n_per_mk[:,activefeatures]\n",
    "    n_per_ik = n_per_ik[:,activefeatures]\n",
    "    phi = phi[activefeatures]\n",
    "    pi = pi[activefeatures]\n",
    "    b = b[:,activefeatures]\n",
    "    if supervised:\n",
    "        a = a[activefeatures]\n",
    "    K_plus = len(pi)\n",
    "    # adjust z since dropping inactive features leads to rearrangement (e.g. droping feature 2 -> feature 3 becomes feature 2)\n",
    "    old2new_index = {old_idx:new_idx for old_idx,(status,new_idx) in enumerate(zip(activefeatures,np.cumsum(activefeatures)-1)) if status}\n",
    "    z = [np.array([old2new_index[k] for k in z_m]) for z_m in z]\n",
    "\n",
    "    pis, phis, bs, zs, Ks, a_samples, y_hats = [],[],[],[],[],[],[]\n",
    "    loglikelihoods, acceptance_ratios, runtime = [],[],[]\n",
    "\n",
    "    start_time = time.time()\n",
    "\n",
    "    for t in range(iters):\n",
    "        # update pi (semi-ordered slice sampler)\n",
    "        # draw s conditonal on pi,B\n",
    "        # stick_length of last active feature (pi_sorted_acrtive sorted by decreasing pi -> last element is min)\n",
    "        pi_star = min(1,sorted(pi,reverse=True)[-1])\n",
    "        s = np.random.uniform(0,pi_star)\n",
    "        # until pi_(K°+1)<s: generate inactive features & draw pi, let K° be # of features generated\n",
    "        pi_new = []\n",
    "        pi_ball = s+1 # just sth >s\n",
    "        pi_kmin1 = pi_star  # ?what is correct first value\n",
    "        while pi_ball >= s: \n",
    "            # draw new pi\n",
    "            pi_ball = draw_via_PIT(logpdf=logp_new_pi, args=[alpha,M], lb=0,ub=pi_kmin1, Npoints=Npoints)\n",
    "            pi_new.append(pi_ball)\n",
    "            pi_kmin1 = pi_ball\n",
    "        pi_new = pi_new[:-1]  # exclude pi_(K°+1) \n",
    "        pi = np.append(pi, pi_new)\n",
    "        K_ball = len(pi_new)\n",
    "        K = K_plus+K_ball\n",
    "\n",
    "        # update phi\n",
    "        accepted = 0\n",
    "        phi_samples = []\n",
    "        # for active features\n",
    "        for i in range(iters_MH):\n",
    "            lposterior_old = logp_phi_n(n_per_mk, b, gamma, phi)\n",
    "            phi_proposal = np.random.normal(loc=phi, scale=sigma_proposal, size=K_plus)\n",
    "            lposterior_proposal = logp_phi_n(n_per_mk, b, gamma, phi_proposal)\n",
    "            logr = lposterior_proposal - lposterior_old\n",
    "            mask = np.log(np.random.uniform(size=K_plus)) < logr\n",
    "            phi[mask] = phi_proposal[mask]\n",
    "            accepted += mask.sum()\n",
    "            phi_samples.append(phi.copy())\n",
    "        phi_posterior_mean = np.mean(phi_samples[iters_MH//2:],axis=0)\n",
    "        # for inactive features (logp_phi_n simplifies to Gamma(gamma,1) prior)\n",
    "        phi_new = np.random.gamma(gamma,1, size=K_ball)\n",
    "\n",
    "        phi = np.append(phi_posterior_mean, phi_new)\n",
    "        acceptance_ratios.append(accepted/float(iters_MH*K_plus))\n",
    "\n",
    "        n_per_mk = np.concatenate((n_per_mk, np.zeros((M,K_ball))),axis=1)\n",
    "        n_per_ik = np.concatenate((n_per_ik, np.zeros((Nvocabulary,K_ball))),axis=1)\n",
    "        if supervised:\n",
    "            a = np.append(a, np.random.normal(mu_a, sigma_a, size=K_ball))\n",
    "\n",
    "        # update b\n",
    "        p_bmk = p_b(np.ones((M,K_plus+K_ball)), pi, phi, n_per_mk)\n",
    "        b = np.random.binomial(1,p_bmk)\n",
    "\n",
    "        # update z_mi\n",
    "        for m in range(M):\n",
    "            for i in range(n[m]):\n",
    "                wmi = w[m][i]\n",
    "                # exclude current assignment of word from counts\n",
    "                k_old = z[m][i]\n",
    "                n_per_mk[m, k_old] -= 1\n",
    "                n_per_ik[wmi, k_old] -= 1\n",
    "                # get probability for all possible new assignments\n",
    "                if supervised:\n",
    "                    logp_zmi = logp_zmi_s(eta[wmi], n_per_ik[wmi,:], n_per_mk, m, i, z, phi, pi, alpha, gamma, y[m], a, sigma_y)\n",
    "                else:\n",
    "                    logp_zmi = logp_zmi_us(eta[wmi], n_per_ik[wmi,:], n_per_mk, m, i, z, phi, pi, alpha, gamma)\n",
    "                logp_zmi = logp_zmi - logp_zmi.max()\n",
    "                logp_zmi_norm = logp_zmi - sp.special.logsumexp(logp_zmi)\n",
    "                k_new = np.random.choice(range(K),p=np.exp(logp_zmi_norm))\n",
    "                z[m][i] = k_new\n",
    "                n_per_mk[m, k_new] += 1\n",
    "                n_per_ik[wmi, k_new] += 1\n",
    "\n",
    "        # only keep active features\n",
    "        activefeatures = (n_per_mk.sum(axis=0) != 0)\n",
    "        n_per_mk = n_per_mk[:,activefeatures]\n",
    "        n_per_ik = n_per_ik[:,activefeatures]\n",
    "        phi = phi[activefeatures]\n",
    "        pi = pi[activefeatures]\n",
    "        b = b[:,activefeatures]\n",
    "        if supervised:\n",
    "            a = a[activefeatures]\n",
    "        K_plus = len(pi)\n",
    "        K = K_plus\n",
    "        # adjust z since dropping inactive features leads to rearrangement (e.g. droping feature 2 -> feature 3 becomes feature 2)\n",
    "        old2new_index = {old_idx:new_idx for old_idx,(status,new_idx) in enumerate(zip(activefeatures,np.cumsum(activefeatures)-1)) if status}\n",
    "        z = [np.array([old2new_index[k] for k in z_m]) for z_m in z]\n",
    "\n",
    "        # update a\n",
    "        if supervised:\n",
    "            X = n_per_mk / n_per_mk.sum(axis=1)[:,np.newaxis]\n",
    "            a_postvar = np.linalg.pinv(X.T.dot(X)+np.eye(K)*sigma_a**2)\n",
    "            a_postmean = a_postvar.dot(X.T).dot(y)\n",
    "            a = np.random.multivariate_normal(a_postmean, a_postvar)\n",
    "            y_hat = X.dot(a)\n",
    "\n",
    "        runtime.append(time.time()-start_time)\n",
    "        beta_postmean_unnorm = n_per_ik+eta[:,np.newaxis]\n",
    "        beta_postmean = beta_postmean_unnorm / beta_postmean_unnorm.sum(axis=0)\n",
    "        loglikelihood = np.sum(stats.multinomial.logpmf(n_per_ik.T, n=n_per_ik.sum(axis=0), p=beta_postmean.T))\n",
    "        loglikelihoods.append(loglikelihood)\n",
    "        bs.append(b.copy())\n",
    "        # ?easier way to copy the whole list including sublists (I tried: list(z), import copy, copy.copy(z), z as list of list instead of list of arrays)\n",
    "        zs.append([z_m.copy() for z_m in z])\n",
    "        phis.append(phi.copy())\n",
    "        pis.append(pi.copy())\n",
    "        Ks.append(K)\n",
    "        if supervised:\n",
    "            a_samples.append(a.copy())\n",
    "            y_hats.append(y_hat.copy())\n",
    "            \n",
    "    logs = {'iteration':range(1,iters+1), 'runtime':runtime, 'loglikelihood':loglikelihoods, 'acceptance_ratio':acceptance_ratios}\n",
    "    samples = {'K':Ks, 'z':zs, 'b':bs, 'phi':phis, 'pi':pis}\n",
    "    if supervised:\n",
    "        samples['a'] = a_samples\n",
    "        samples['y_hat'] = y_hats\n",
    "    \n",
    "    return samples, logs"
   ]
  },
  {
   "cell_type": "code",
   "execution_count": null,
   "metadata": {
    "collapsed": true
   },
   "outputs": [],
   "source": [
    "# initialize with data generating parameters\n",
    "iters = 50\n",
    "samples,logs = sICD_collapsed_gibbs(iters, w_dgp, Nvocabulary, alpha, gamma, z_dgp, phi_dgp, pi_dgp, b_dgp, supervised=True, y=y_dgp, a0=a_dgp, \n",
    "                         mu_a=mu_a, sigma_a=sigma_a, sigma_y=sigma_y)"
   ]
  },
  {
   "cell_type": "code",
   "execution_count": 108,
   "metadata": {
    "collapsed": true
   },
   "outputs": [],
   "source": [
    "# train-test split\n",
    "percentage_test = 0.5\n",
    "testindices = np.random.choice(range(M_dgp), size=int(M_dgp*percentage_test), replace=False)\n",
    "\n",
    "w_dict = {'all':w_dgp, 'test':[w_dgp[idx] for idx in testindices], 'train':np.delete(w_dgp,testindices, axis=0)}\n",
    "b_dict = {'all':b_dgp, 'test':b_dgp[testindices,:], 'train':np.delete(b_dgp,testindices, axis=0)}\n",
    "if supervised:\n",
    "    y_dict = {'all':y_dgp, 'test':y_dgp[testindices], 'train':np.delete(y_dgp,testindices, axis=0)}"
   ]
  },
  {
   "cell_type": "code",
   "execution_count": 109,
   "metadata": {},
   "outputs": [
    {
     "name": "stderr",
     "output_type": "stream",
     "text": [
      "C:\\Program Files\\Anaconda3\\envs\\py27\\lib\\site-packages\\ipykernel\\__main__.py:99: RuntimeWarning: divide by zero encountered in log\n",
      "C:\\Program Files\\Anaconda3\\envs\\py27\\lib\\site-packages\\ipykernel\\__main__.py:59: RuntimeWarning: invalid value encountered in less\n"
     ]
    }
   ],
   "source": [
    "#%%time\n",
    "# settings\n",
    "iters = 100\n",
    "Npoints = 1000  # number of points for approximating CDF for slice sampler\n",
    "iters_MH = 100\n",
    "sigma_proposal = 1  # for MH\n",
    "supervised = True\n",
    "\n",
    "# train\n",
    "dataset = 'train' #'train', 'test', 'all'\n",
    "w = w_dict[dataset]\n",
    "M = len(w)\n",
    "if supervised:\n",
    "    y = y_dict[dataset]\n",
    "\n",
    "# initialization\n",
    "K = Kmax\n",
    "z = [np.random.choice(range(K),size=len(w_m)) for w_m in w]  # list(z_dgp)\n",
    "phi = np.random.gamma(gamma,1, size=K)\n",
    "pi = IBP_stick_breaking(alpha,M,K)\n",
    "b = np.random.binomial(n=1, p=pi, size=(M,K))\n",
    "a = np.random.normal(mu_a, sigma_a, size=K)\n",
    "\n",
    "samples_train,logs_train = sICD_collapsed_gibbs(iters, w, Nvocabulary, alpha, gamma, z, phi, pi, b, supervised=supervised, y=y, a0=a, \n",
    "                         mu_a=mu_a, sigma_a=sigma_a, sigma_y=sigma_y, iters_MH=iters_MH, sigma_proposal=sigma_proposal)"
   ]
  },
  {
   "cell_type": "code",
   "execution_count": 110,
   "metadata": {},
   "outputs": [
    {
     "name": "stderr",
     "output_type": "stream",
     "text": [
      "C:\\Program Files\\Anaconda3\\envs\\py27\\lib\\site-packages\\ipykernel\\__main__.py:99: RuntimeWarning: divide by zero encountered in log\n",
      "C:\\Program Files\\Anaconda3\\envs\\py27\\lib\\site-packages\\ipykernel\\__main__.py:59: RuntimeWarning: invalid value encountered in less\n"
     ]
    }
   ],
   "source": [
    "# test\n",
    "dataset = 'test' #'train', 'test', 'all'\n",
    "w = w_dict[dataset]\n",
    "M = len(w)\n",
    "if supervised:\n",
    "    y = y_dict[dataset]\n",
    "\n",
    "K = Kmax\n",
    "z = [np.random.choice(range(K),size=len(w_m)) for w_m in w]  # list(z_dgp)\n",
    "phi = np.random.gamma(gamma,1, size=K)\n",
    "pi = IBP_stick_breaking(alpha,M,K)\n",
    "b = np.random.binomial(n=1, p=pi, size=(M,K))\n",
    "\n",
    "samples_test,logs_test = sICD_collapsed_gibbs(iters, w, Nvocabulary, alpha, gamma, z, phi, pi, b, supervised=False, \n",
    "                                              iters_MH=iters_MH, sigma_proposal=sigma_proposal)"
   ]
  },
  {
   "cell_type": "code",
   "execution_count": 111,
   "metadata": {
    "collapsed": true
   },
   "outputs": [],
   "source": [
    "settings = 'iters='+str(iters)+',M='+str(M_dgp)+',Nvocab='+str(Nvocabulary)+',gamma='+str(gamma)+',alpha='+str(alpha)+',supervised='+str(supervised)\n",
    "if supervised:\n",
    "    settings += ',mu_a='+str(mu_a)+',sigma_a='+str(sigma_a)+',sigma_y='+str(sigma_y)\n",
    "    \n",
    "fileending = settings+'_8'"
   ]
  },
  {
   "cell_type": "code",
   "execution_count": 112,
   "metadata": {
    "collapsed": true
   },
   "outputs": [],
   "source": [
    "samples = {'test':samples_test, 'train':samples_train}\n",
    "logs = {'test':logs_test, 'train':logs_train}"
   ]
  },
  {
   "cell_type": "code",
   "execution_count": 113,
   "metadata": {},
   "outputs": [
    {
     "data": {
      "image/png": "[encoded data removed]",
      "text/plain": [
       "<matplotlib.figure.Figure at 0x21290320>"
      ]
     },
     "metadata": {},
     "output_type": "display_data"
    }
   ],
   "source": [
    "plt.plot(logs_train['loglikelihood'], 'k', label='train')\n",
    "plt.plot(logs_test['loglikelihood'], '--k', label='test')\n",
    "#plt.plot(loglikelihoods, '--k')\n",
    "plt.xlabel('iteration')\n",
    "plt.ylabel('loglikelihood');\n",
    "plt.legend();\n",
    "plt.savefig('figures/loglikelihood_'+fileending+'.png', bbox_inches='tight')"
   ]
  },
  {
   "cell_type": "code",
   "execution_count": 114,
   "metadata": {},
   "outputs": [
    {
     "data": {
      "image/png": "[encoded data removed]",
      "text/plain": [
       "<matplotlib.figure.Figure at 0x210a5780>"
      ]
     },
     "metadata": {},
     "output_type": "display_data"
    }
   ],
   "source": [
    "plt.plot(logs_train['iteration'], logs_train['runtime'], 'k', label='supervised')\n",
    "plt.plot(logs_test['iteration'], logs_test['runtime'], '--k', label='unsupervised')\n",
    "plt.ylabel('runtime')\n",
    "plt.xlabel('iteration');\n",
    "plt.legend();\n",
    "plt.savefig('figures/runtime_'+fileending+'.png', bbox_inches='tight')"
   ]
  },
  {
   "cell_type": "code",
   "execution_count": 115,
   "metadata": {},
   "outputs": [
    {
     "data": {
      "image/png": "[encoded data removed]",
      "text/plain": [
       "<matplotlib.figure.Figure at 0x1e4cecc0>"
      ]
     },
     "metadata": {},
     "output_type": "display_data"
    }
   ],
   "source": [
    "dataset = 'train'\n",
    "\n",
    "K_mode = np.bincount(samples[dataset]['K'][iters//2:]).argmax()\n",
    "#print K_mode, np.mean(samples[dataset]['K'][iters/2:])\n",
    "\n",
    "plt.hist(samples[dataset]['K'][iters//2:], edgecolor='k', color='white');\n",
    "plt.xlabel('K')\n",
    "plt.ylabel('count');\n",
    "plt.savefig('figures/histK_'+fileending+'_'+dataset+'.png', bbox_inches='tight')"
   ]
  },
  {
   "cell_type": "code",
   "execution_count": 116,
   "metadata": {},
   "outputs": [
    {
     "data": {
      "image/png": "[encoded data removed]",
      "text/plain": [
       "<matplotlib.figure.Figure at 0x223a0c18>"
      ]
     },
     "metadata": {},
     "output_type": "display_data"
    }
   ],
   "source": [
    "#print np.mean(logs[dataset]['acceptance_ratio'][iters/2:])\n",
    "plt.hist(logs[dataset]['acceptance_ratio'][iters//2:], edgecolor='k', color='white');\n",
    "plt.xlabel('acceptance ratio')\n",
    "plt.ylabel('count')\n",
    "plt.savefig('figures/histAcceptanceRatio_'+fileending+'_'+dataset+'.png', bbox_inches='tight')"
   ]
  },
  {
   "cell_type": "code",
   "execution_count": 117,
   "metadata": {},
   "outputs": [
    {
     "data": {
      "image/png": "[encoded data removed]",
      "text/plain": [
       "<matplotlib.figure.Figure at 0x22a50828>"
      ]
     },
     "metadata": {},
     "output_type": "display_data"
    }
   ],
   "source": [
    "fig,[ax1,ax2,ax3,ax4,ax5] = plt.subplots(1,5, sharey=True, figsize=[10,4])\n",
    "fig.suptitle(r'$\\mathbf{B}$',y=1.06)\n",
    "\n",
    "ax1.imshow(b_dict[dataset], cmap='Greys', aspect='auto');\n",
    "ax1.set_xlim(0,Kmax)\n",
    "ax1.set_xlabel('k')\n",
    "ax1.set_ylabel('m')\n",
    "ax1.set_title(r'data-generating')\n",
    "\n",
    "b_K_mode = [b for b in samples[dataset]['b'][iters//2:] if b.shape[1]==K_mode]\n",
    "ax2.imshow(b_K_mode[-1], cmap='Greys', aspect='auto');\n",
    "ax2.set_xlabel('k')\n",
    "ax2.set_title('posterior sample')\n",
    "\n",
    "ax3.imshow(np.mean(b_K_mode,axis=0), cmap='Greys', aspect='auto');\n",
    "ax3.set_xlabel('k');\n",
    "ax3.set_title('posterior mean \\n at modal K');\n",
    "\n",
    "ax4.imshow(b_K_mode[-1], cmap='Greys', aspect='auto');\n",
    "ax4.set_xlim(0,Kmax)\n",
    "ax4.set_xlabel('k')\n",
    "ax4.set_title('posterior sample \\n truncated')\n",
    "\n",
    "ax5.imshow(np.mean(b_K_mode,axis=0), cmap='Greys', aspect='auto');\n",
    "ax5.set_xlim(0,Kmax)\n",
    "ax5.set_xlabel('k');\n",
    "ax5.set_title('posterior mean \\n truncated');\n",
    "\n",
    "plt.savefig('figures/b_'+fileending+'_'+dataset+'.png', bbox_inches='tight')"
   ]
  },
  {
   "cell_type": "code",
   "execution_count": 118,
   "metadata": {
    "collapsed": true
   },
   "outputs": [],
   "source": [
    "def R2(yhat,y):\n",
    "    # <0 means yhat fits worse than sample  mean y.mean()\n",
    "    return 1 - np.sum((yhat-y)**2) / np.sum((y-y.mean())**2)"
   ]
  },
  {
   "cell_type": "code",
   "execution_count": 123,
   "metadata": {
    "collapsed": true
   },
   "outputs": [],
   "source": [
    "# sICD\n",
    "# train\n",
    "y_train_sICD = samples['train']['y_hat'][iters//2:]\n",
    "# test\n",
    "K2a_dict_sICD = {K: np.mean(list(a),axis=0) for K,a in groupby(samples['train']['a'][iters//2:], key=lambda a: len(a))}\n",
    "y_test_sICD = [(get_n_per_mk(z,K)/get_n_per_mk(z,K).sum(axis=1)[:,np.newaxis]).dot(K2a_dict_sICD[K]) for z,K in zip(samples['test']['z'],samples['test']['K']) if K in K2a_dict_sICD]\n",
    "\n",
    "# 2-step\n",
    "# train\n",
    "y_train_2step, a_2step = [],[]\n",
    "for z,K in zip(samples['train']['z'],samples['train']['K']):\n",
    "    n_per_mk = get_n_per_mk(z,K)\n",
    "    X = np.nan_to_num(n_per_mk / n_per_mk.sum(axis=1)[:,np.newaxis])\n",
    "    a_postvar = np.linalg.pinv(X.T.dot(X)+np.eye(K)*sigma_a**2)\n",
    "    a_postmean = a_postvar.dot(X.T).dot(y_dict['train'])\n",
    "    a = np.random.multivariate_normal(a_postmean, a_postvar)\n",
    "    y_train_2step.append(X.dot(a))\n",
    "    a_2step.append(a)\n",
    "# test    \n",
    "K2a_dict_2step = {K: np.mean(list(a),axis=0) for K,a in groupby(a_2step[iters//2:], key=lambda a: len(a))}\n",
    "y_test_2step = [get_n_per_mk(z,K).dot(K2a_dict_2step[K]) for z,K in zip(samples['test']['z'],samples['test']['K']) if K in K2a_dict_2step]"
   ]
  },
  {
   "cell_type": "code",
   "execution_count": 125,
   "metadata": {},
   "outputs": [
    {
     "data": {
      "image/png": "[encoded data removed]",
      "text/plain": [
       "<matplotlib.figure.Figure at 0x226bfc18>"
      ]
     },
     "metadata": {},
     "output_type": "display_data"
    }
   ],
   "source": [
    "fig, axes = plt.subplots(2,2, sharex=True, sharey=True, figsize=[8,6])\n",
    "axes_col1, axes_col2 = axes.T\n",
    "\n",
    "for ax,y,method in zip(axes_col1,[y_train_sICD,y_train_2step],['sFTM','2 step']):\n",
    "    R2_ = R2(np.mean(y,axis=0),y_dict['train'])\n",
    "    #MSE = np.mean((np.mean(y,axis=0)-y_dict['train'])**2)\n",
    "    ax.set_title('train, '+method+r' ($R^2$='+str(round(R2_,2))+')')\n",
    "    ax.scatter(y_dict['train'],np.mean(y,axis=0), color='k', s=10)\n",
    "    #ax.hist(np.mean(y,axis=0), normed=True, alpha=0.5, label='predicted response');\n",
    "    #ax.hist(y_dict['train'], normed=True, alpha=0.5, label='true response');\n",
    "    ax.set_ylabel('predicted y')\n",
    "    ax.set_ylim(ax.get_xlim())\n",
    "    \n",
    "for ax,y,method in zip(axes_col2,[y_test_sICD,y_test_2step],['sFTM','2 step']):\n",
    "    pR2 = R2(np.mean(y,axis=0),y_dict['test'])\n",
    "    #MSE = np.mean((np.mean(y,axis=0)-y_dict['test'])**2)\n",
    "    ax.set_title('test, '+method+r' ($pR^2$='+str(round(pR2,2))+')')\n",
    "    ax.scatter(y_dict['test'],np.mean(y,axis=0), color='k', s=10)\n",
    "    #ax.hist(np.mean(y,axis=0), normed=True, alpha=0.5, label='predicted response');\n",
    "    #ax.hist(y_dict['test'], normed=True, alpha=0.5, label='true response');\n",
    "\n",
    "axes_col1[-1].set_xlabel('true y')\n",
    "axes_col2[-1].set_xlabel('true y');\n",
    "\n",
    "plt.savefig('figures/Y_predictedVStrue'+fileending+'.png', bbox_inches='tight')"
   ]
  },
  {
   "cell_type": "code",
   "execution_count": 126,
   "metadata": {},
   "outputs": [
    {
     "data": {
      "image/png": "[encoded data removed]",
      "text/plain": [
       "<matplotlib.figure.Figure at 0x210980b8>"
      ]
     },
     "metadata": {},
     "output_type": "display_data"
    }
   ],
   "source": [
    "fig, axes = plt.subplots(2,2, sharex=True, sharey=True, figsize=[8,6])\n",
    "axes_col1, axes_col2 = axes.T\n",
    "\n",
    "for ax,y,method in zip(axes_col1,[y_train_sICD,y_train_2step],['sFTM','2 step']):\n",
    "    R2_ = R2(np.mean(y,axis=0),y_dict['train'])\n",
    "    #MSE = np.mean((np.mean(y,axis=0)-y_dict['train'])**2)\n",
    "    ax.set_title('train, '+method+r' ($R^2$='+str(round(R2_,2))+')')\n",
    "    ax.hist(np.mean(y,axis=0), normed=True, alpha=0.5, label='predicted response');\n",
    "    ax.hist(y_dict['train'], normed=True, alpha=0.5, label='true response');\n",
    "    ax.set_ylabel('relative frequency')\n",
    "    \n",
    "for ax,y,method in zip(axes_col2,[y_test_sICD,y_test_2step],['sFTM','2 step']):\n",
    "    pR2 = R2(np.mean(y,axis=0),y_dict['test'])\n",
    "    #MSE = np.mean((np.mean(y,axis=0)-y_dict['test'])**2)\n",
    "    ax.set_title('test, '+method+r' ($pR^2$='+str(round(pR2,2))+')')\n",
    "    ax.hist(np.mean(y,axis=0), normed=True, alpha=0.5, label='predicted response');\n",
    "    ax.hist(y_dict['test'], normed=True, alpha=0.5, label='true response');\n",
    "\n",
    "axes_col1[0].legend();\n",
    "axes_col1[-1].set_xlabel('y')\n",
    "axes_col2[-1].set_xlabel('y');\n",
    "\n",
    "plt.savefig('figures/histY_'+fileending+'.png', bbox_inches='tight')"
   ]
  },
  {
   "cell_type": "code",
   "execution_count": null,
   "metadata": {
    "collapsed": true
   },
   "outputs": [],
   "source": []
  }
 ],
 "metadata": {
  "anaconda-cloud": {},
  "kernelspec": {
   "display_name": "Python [conda env:py27]",
   "language": "python",
   "name": "conda-env-py27-py"
  },
  "language_info": {
   "codemirror_mode": {
    "name": "ipython",
    "version": 2
   },
   "file_extension": ".py",
   "mimetype": "text/x-python",
   "name": "python",
   "nbconvert_exporter": "python",
   "pygments_lexer": "ipython2",
   "version": "2.7.13"
  }
 },
 "nbformat": 4,
 "nbformat_minor": 2
}
